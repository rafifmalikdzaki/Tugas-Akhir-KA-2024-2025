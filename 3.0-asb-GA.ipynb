{
 "cells": [
  {
   "cell_type": "code",
   "execution_count": 3,
   "id": "36c26bac8b3f291b",
   "metadata": {
    "ExecuteTime": {
     "end_time": "2024-11-25T05:20:57.527639Z",
     "start_time": "2024-11-25T05:20:55.951534Z"
    }
   },
   "outputs": [],
   "source": [
    "import numpy as np\n",
    "import pandas as pd\n",
    "import matplotlib.pyplot as plt\n",
    "import seaborn as sns\n",
    "import sklearn"
   ]
  },
  {
   "cell_type": "code",
   "execution_count": 2,
   "id": "6a38397c6d40b032",
   "metadata": {
    "ExecuteTime": {
     "end_time": "2024-11-25T05:20:57.629225Z",
     "start_time": "2024-11-25T05:20:57.550423Z"
    }
   },
   "outputs": [
    {
     "ename": "NameError",
     "evalue": "name 'pd' is not defined",
     "output_type": "error",
     "traceback": [
      "\u001b[1;31m---------------------------------------------------------------------------\u001b[0m",
      "\u001b[1;31mNameError\u001b[0m                                 Traceback (most recent call last)",
      "Cell \u001b[1;32mIn[2], line 1\u001b[0m\n\u001b[1;32m----> 1\u001b[0m final_dataset \u001b[38;5;241m=\u001b[39m \u001b[43mpd\u001b[49m\u001b[38;5;241m.\u001b[39mread_csv(\u001b[38;5;124m\"\u001b[39m\u001b[38;5;124m./aggregated_dataset.csv\u001b[39m\u001b[38;5;124m\"\u001b[39m)\n\u001b[0;32m      3\u001b[0m final_dataset\u001b[38;5;241m.\u001b[39mLabel\u001b[38;5;241m.\u001b[39mvalue_counts()\n",
      "\u001b[1;31mNameError\u001b[0m: name 'pd' is not defined"
     ]
    }
   ],
   "source": [
    "final_dataset = pd.read_csv(\"./aggregated_dataset.csv\")\n",
    "\n",
    "final_dataset.Label.value_counts()"
   ]
  },
  {
   "cell_type": "code",
   "execution_count": null,
   "id": "2425d864b7b9905f",
   "metadata": {
    "ExecuteTime": {
     "end_time": "2024-11-25T05:20:57.790905Z",
     "start_time": "2024-11-25T05:20:57.786633Z"
    }
   },
   "outputs": [
    {
     "data": {
      "text/plain": [
       "(1061600, 9)"
      ]
     },
     "execution_count": 3,
     "metadata": {},
     "output_type": "execute_result"
    }
   ],
   "source": [
    "final_dataset.shape"
   ]
  },
  {
   "cell_type": "code",
   "execution_count": 5,
   "id": "e8d19a02",
   "metadata": {},
   "outputs": [
    {
     "name": "stdout",
     "output_type": "stream",
     "text": [
      "No of Features: 561\n"
     ]
    },
    {
     "data": {
      "text/plain": [
       "561"
      ]
     },
     "execution_count": 5,
     "metadata": {},
     "output_type": "execute_result"
    }
   ],
   "source": [
    "features = list()\n",
    "with open('UCI HAR Dataset/features.txt') as f:\n",
    "    features = [line.split()[1] for line in f.readlines()]\n",
    "\n",
    "print('No of Features: {}'.format(len(features)))\n",
    "\n",
    "seen = set()\n",
    "uniq_features = []\n",
    "for idx, x in enumerate(features):\n",
    "    if x not in seen:\n",
    "        uniq_features.append(x)\n",
    "        seen.add(x)\n",
    "    elif x + 'n' not in seen:\n",
    "        uniq_features.append(x + 'n')\n",
    "        seen.add(x + 'n')\n",
    "    else:\n",
    "        uniq_features.append(x + 'nn')\n",
    "        seen.add(x + 'nn')\n",
    "len(uniq_features)"
   ]
  },
  {
   "cell_type": "code",
   "execution_count": 6,
   "id": "6b967c5a",
   "metadata": {},
   "outputs": [
    {
     "name": "stderr",
     "output_type": "stream",
     "text": [
      "C:\\Users\\ASK\\AppData\\Local\\Temp\\ipykernel_38772\\1588319156.py:4: FutureWarning: The squeeze argument has been deprecated and will be removed in a future version. Append .squeeze(\"columns\") to the call to squeeze.\n",
      "\n",
      "\n",
      "  X_train['subject'] = pd.read_csv('UCI HAR Dataset/train/subject_train.txt', header=None, squeeze=True)\n",
      "C:\\Users\\ASK\\AppData\\Local\\Temp\\ipykernel_38772\\1588319156.py:6: FutureWarning: The squeeze argument has been deprecated and will be removed in a future version. Append .squeeze(\"columns\") to the call to squeeze.\n",
      "\n",
      "\n",
      "  y_train = pd.read_csv('UCI HAR Dataset/train/y_train.txt', names=['Activity'], squeeze=True)\n"
     ]
    },
    {
     "data": {
      "text/html": [
       "<div>\n",
       "<style scoped>\n",
       "    .dataframe tbody tr th:only-of-type {\n",
       "        vertical-align: middle;\n",
       "    }\n",
       "\n",
       "    .dataframe tbody tr th {\n",
       "        vertical-align: top;\n",
       "    }\n",
       "\n",
       "    .dataframe thead th {\n",
       "        text-align: right;\n",
       "    }\n",
       "</style>\n",
       "<table border=\"1\" class=\"dataframe\">\n",
       "  <thead>\n",
       "    <tr style=\"text-align: right;\">\n",
       "      <th></th>\n",
       "      <th>tBodyAcc-mean()-X</th>\n",
       "      <th>tBodyAcc-mean()-Y</th>\n",
       "      <th>tBodyAcc-mean()-Z</th>\n",
       "      <th>tBodyAcc-std()-X</th>\n",
       "      <th>tBodyAcc-std()-Y</th>\n",
       "      <th>tBodyAcc-std()-Z</th>\n",
       "      <th>tBodyAcc-mad()-X</th>\n",
       "      <th>tBodyAcc-mad()-Y</th>\n",
       "      <th>tBodyAcc-mad()-Z</th>\n",
       "      <th>tBodyAcc-max()-X</th>\n",
       "      <th>...</th>\n",
       "      <th>angle(tBodyAccMean,gravity)</th>\n",
       "      <th>angle(tBodyAccJerkMean),gravityMean)</th>\n",
       "      <th>angle(tBodyGyroMean,gravityMean)</th>\n",
       "      <th>angle(tBodyGyroJerkMean,gravityMean)</th>\n",
       "      <th>angle(X,gravityMean)</th>\n",
       "      <th>angle(Y,gravityMean)</th>\n",
       "      <th>angle(Z,gravityMean)</th>\n",
       "      <th>subject</th>\n",
       "      <th>Activity</th>\n",
       "      <th>ActivityName</th>\n",
       "    </tr>\n",
       "  </thead>\n",
       "  <tbody>\n",
       "    <tr>\n",
       "      <th>5804</th>\n",
       "      <td>0.202351</td>\n",
       "      <td>-0.021717</td>\n",
       "      <td>-0.111851</td>\n",
       "      <td>-0.332095</td>\n",
       "      <td>-0.114114</td>\n",
       "      <td>-0.309439</td>\n",
       "      <td>-0.382582</td>\n",
       "      <td>-0.161981</td>\n",
       "      <td>-0.308824</td>\n",
       "      <td>0.046627</td>\n",
       "      <td>...</td>\n",
       "      <td>0.831735</td>\n",
       "      <td>0.495929</td>\n",
       "      <td>-0.021844</td>\n",
       "      <td>-0.621611</td>\n",
       "      <td>-0.843964</td>\n",
       "      <td>0.187828</td>\n",
       "      <td>-0.04474</td>\n",
       "      <td>26</td>\n",
       "      <td>1</td>\n",
       "      <td>WALKING</td>\n",
       "    </tr>\n",
       "  </tbody>\n",
       "</table>\n",
       "<p>1 rows × 564 columns</p>\n",
       "</div>"
      ],
      "text/plain": [
       "      tBodyAcc-mean()-X  tBodyAcc-mean()-Y  tBodyAcc-mean()-Z  \\\n",
       "5804           0.202351          -0.021717          -0.111851   \n",
       "\n",
       "      tBodyAcc-std()-X  tBodyAcc-std()-Y  tBodyAcc-std()-Z  tBodyAcc-mad()-X  \\\n",
       "5804         -0.332095         -0.114114         -0.309439         -0.382582   \n",
       "\n",
       "      tBodyAcc-mad()-Y  tBodyAcc-mad()-Z  tBodyAcc-max()-X  ...  \\\n",
       "5804         -0.161981         -0.308824          0.046627  ...   \n",
       "\n",
       "      angle(tBodyAccMean,gravity)  angle(tBodyAccJerkMean),gravityMean)  \\\n",
       "5804                     0.831735                              0.495929   \n",
       "\n",
       "      angle(tBodyGyroMean,gravityMean)  angle(tBodyGyroJerkMean,gravityMean)  \\\n",
       "5804                         -0.021844                             -0.621611   \n",
       "\n",
       "      angle(X,gravityMean)  angle(Y,gravityMean)  angle(Z,gravityMean)  \\\n",
       "5804             -0.843964              0.187828              -0.04474   \n",
       "\n",
       "      subject  Activity  ActivityName  \n",
       "5804       26         1       WALKING  \n",
       "\n",
       "[1 rows x 564 columns]"
      ]
     },
     "execution_count": 6,
     "metadata": {},
     "output_type": "execute_result"
    }
   ],
   "source": [
    "X_train = pd.read_csv('UCI HAR Dataset/train/X_train.txt', delim_whitespace=True, header=None, names=uniq_features)\n",
    "\n",
    "# # add subject column to the dataframe\n",
    "X_train['subject'] = pd.read_csv('UCI HAR Dataset/train/subject_train.txt', header=None, squeeze=True)\n",
    "\n",
    "y_train = pd.read_csv('UCI HAR Dataset/train/y_train.txt', names=['Activity'], squeeze=True)\n",
    "y_train_labels = y_train.map({1: 'WALKING', 2:'WALKING_UPSTAIRS',3:'WALKING_DOWNSTAIRS',\\\n",
    "                       4:'SITTING', 5:'STANDING',6:'LAYING'})\n",
    "\n",
    "# # put all columns in a single dataframe\n",
    "train = X_train\n",
    "train['Activity'] = y_train\n",
    "train['ActivityName'] = y_train_labels\n",
    "train.sample()"
   ]
  },
  {
   "cell_type": "code",
   "execution_count": 10,
   "id": "7a02e4f5",
   "metadata": {},
   "outputs": [
    {
     "name": "stderr",
     "output_type": "stream",
     "text": [
      "C:\\Users\\ASK\\AppData\\Local\\Temp\\ipykernel_38772\\1155623851.py:5: FutureWarning: The squeeze argument has been deprecated and will be removed in a future version. Append .squeeze(\"columns\") to the call to squeeze.\n",
      "\n",
      "\n",
      "  X_test['subject'] = pd.read_csv('UCI HAR Dataset/test/subject_test.txt', header=None, squeeze=True)\n",
      "C:\\Users\\ASK\\AppData\\Local\\Temp\\ipykernel_38772\\1155623851.py:8: FutureWarning: The squeeze argument has been deprecated and will be removed in a future version. Append .squeeze(\"columns\") to the call to squeeze.\n",
      "\n",
      "\n",
      "  y_test = pd.read_csv('UCI HAR Dataset/test/y_test.txt', names=['Activity'], squeeze=True)\n"
     ]
    },
    {
     "data": {
      "text/html": [
       "<div>\n",
       "<style scoped>\n",
       "    .dataframe tbody tr th:only-of-type {\n",
       "        vertical-align: middle;\n",
       "    }\n",
       "\n",
       "    .dataframe tbody tr th {\n",
       "        vertical-align: top;\n",
       "    }\n",
       "\n",
       "    .dataframe thead th {\n",
       "        text-align: right;\n",
       "    }\n",
       "</style>\n",
       "<table border=\"1\" class=\"dataframe\">\n",
       "  <thead>\n",
       "    <tr style=\"text-align: right;\">\n",
       "      <th></th>\n",
       "      <th>tBodyAcc-mean()-X</th>\n",
       "      <th>tBodyAcc-mean()-Y</th>\n",
       "      <th>tBodyAcc-mean()-Z</th>\n",
       "      <th>tBodyAcc-std()-X</th>\n",
       "      <th>tBodyAcc-std()-Y</th>\n",
       "      <th>tBodyAcc-std()-Z</th>\n",
       "      <th>tBodyAcc-mad()-X</th>\n",
       "      <th>tBodyAcc-mad()-Y</th>\n",
       "      <th>tBodyAcc-mad()-Z</th>\n",
       "      <th>tBodyAcc-max()-X</th>\n",
       "      <th>...</th>\n",
       "      <th>angle(tBodyAccMean,gravity)</th>\n",
       "      <th>angle(tBodyAccJerkMean),gravityMean)</th>\n",
       "      <th>angle(tBodyGyroMean,gravityMean)</th>\n",
       "      <th>angle(tBodyGyroJerkMean,gravityMean)</th>\n",
       "      <th>angle(X,gravityMean)</th>\n",
       "      <th>angle(Y,gravityMean)</th>\n",
       "      <th>angle(Z,gravityMean)</th>\n",
       "      <th>subject</th>\n",
       "      <th>Activity</th>\n",
       "      <th>ActivityName</th>\n",
       "    </tr>\n",
       "  </thead>\n",
       "  <tbody>\n",
       "    <tr>\n",
       "      <th>1766</th>\n",
       "      <td>0.271549</td>\n",
       "      <td>-0.016906</td>\n",
       "      <td>-0.11077</td>\n",
       "      <td>-0.996921</td>\n",
       "      <td>-0.989715</td>\n",
       "      <td>-0.986132</td>\n",
       "      <td>-0.9973</td>\n",
       "      <td>-0.988802</td>\n",
       "      <td>-0.984284</td>\n",
       "      <td>-0.941987</td>\n",
       "      <td>...</td>\n",
       "      <td>0.162022</td>\n",
       "      <td>-0.701201</td>\n",
       "      <td>0.410483</td>\n",
       "      <td>-0.567081</td>\n",
       "      <td>0.347885</td>\n",
       "      <td>-0.774571</td>\n",
       "      <td>-0.142021</td>\n",
       "      <td>13</td>\n",
       "      <td>6</td>\n",
       "      <td>LAYING</td>\n",
       "    </tr>\n",
       "  </tbody>\n",
       "</table>\n",
       "<p>1 rows × 564 columns</p>\n",
       "</div>"
      ],
      "text/plain": [
       "      tBodyAcc-mean()-X  tBodyAcc-mean()-Y  tBodyAcc-mean()-Z  \\\n",
       "1766           0.271549          -0.016906           -0.11077   \n",
       "\n",
       "      tBodyAcc-std()-X  tBodyAcc-std()-Y  tBodyAcc-std()-Z  tBodyAcc-mad()-X  \\\n",
       "1766         -0.996921         -0.989715         -0.986132           -0.9973   \n",
       "\n",
       "      tBodyAcc-mad()-Y  tBodyAcc-mad()-Z  tBodyAcc-max()-X  ...  \\\n",
       "1766         -0.988802         -0.984284         -0.941987  ...   \n",
       "\n",
       "      angle(tBodyAccMean,gravity)  angle(tBodyAccJerkMean),gravityMean)  \\\n",
       "1766                     0.162022                             -0.701201   \n",
       "\n",
       "      angle(tBodyGyroMean,gravityMean)  angle(tBodyGyroJerkMean,gravityMean)  \\\n",
       "1766                          0.410483                             -0.567081   \n",
       "\n",
       "      angle(X,gravityMean)  angle(Y,gravityMean)  angle(Z,gravityMean)  \\\n",
       "1766              0.347885             -0.774571             -0.142021   \n",
       "\n",
       "      subject  Activity  ActivityName  \n",
       "1766       13         6        LAYING  \n",
       "\n",
       "[1 rows x 564 columns]"
      ]
     },
     "execution_count": 10,
     "metadata": {},
     "output_type": "execute_result"
    }
   ],
   "source": [
    "# get the data from txt files to pandas dataffame\n",
    "X_test = pd.read_csv('UCI HAR Dataset/test/X_test.txt', delim_whitespace=True, header=None, names=uniq_features)\n",
    "\n",
    "# add subject column to the dataframe\n",
    "X_test['subject'] = pd.read_csv('UCI HAR Dataset/test/subject_test.txt', header=None, squeeze=True)\n",
    "\n",
    "# get y labels from the txt file\n",
    "y_test = pd.read_csv('UCI HAR Dataset/test/y_test.txt', names=['Activity'], squeeze=True)\n",
    "y_test_labels = y_test.map({1: 'WALKING', 2:'WALKING_UPSTAIRS',3:'WALKING_DOWNSTAIRS',\\\n",
    "                       4:'SITTING', 5:'STANDING',6:'LAYING'})\n",
    "\n",
    "\n",
    "# put all columns in a single dataframe\n",
    "test = X_test\n",
    "test['Activity'] = y_test\n",
    "test['ActivityName'] = y_test_labels\n",
    "test.sample()"
   ]
  },
  {
   "cell_type": "markdown",
   "id": "af824f3897025ccb",
   "metadata": {},
   "source": [
    "# Train"
   ]
  },
  {
   "cell_type": "code",
   "execution_count": 15,
   "id": "37589c4ed632243",
   "metadata": {
    "ExecuteTime": {
     "end_time": "2024-11-25T05:20:57.854932Z",
     "start_time": "2024-11-25T05:20:57.844217Z"
    }
   },
   "outputs": [
    {
     "data": {
      "text/plain": [
       "Index(['tBodyAcc-mean()-X', 'tBodyAcc-mean()-Y', 'tBodyAcc-mean()-Z',\n",
       "       'tBodyAcc-std()-X', 'tBodyAcc-std()-Y', 'tBodyAcc-std()-Z',\n",
       "       'tBodyAcc-mad()-X', 'tBodyAcc-mad()-Y', 'tBodyAcc-mad()-Z',\n",
       "       'tBodyAcc-max()-X',\n",
       "       ...\n",
       "       'angle(tBodyAccMean,gravity)', 'angle(tBodyAccJerkMean),gravityMean)',\n",
       "       'angle(tBodyGyroMean,gravityMean)',\n",
       "       'angle(tBodyGyroJerkMean,gravityMean)', 'angle(X,gravityMean)',\n",
       "       'angle(Y,gravityMean)', 'angle(Z,gravityMean)', 'subject', 'Activity',\n",
       "       'ActivityName'],\n",
       "      dtype='object', length=564)"
      ]
     },
     "execution_count": 15,
     "metadata": {},
     "output_type": "execute_result"
    }
   ],
   "source": [
    "train.columns"
   ]
  },
  {
   "cell_type": "code",
   "execution_count": 16,
   "id": "e9953a630fce0f59",
   "metadata": {
    "ExecuteTime": {
     "end_time": "2024-11-25T05:20:58.850077Z",
     "start_time": "2024-11-25T05:20:58.216694Z"
    }
   },
   "outputs": [],
   "source": [
    "from sklearn.model_selection import train_test_split\n",
    "from sklearn.metrics import accuracy_score, classification_report\n",
    "from sklearn.preprocessing import StandardScaler\n"
   ]
  },
  {
   "cell_type": "code",
   "execution_count": 17,
   "id": "ea5ae6dfcb35ab0",
   "metadata": {
    "ExecuteTime": {
     "end_time": "2024-11-25T05:20:58.934706Z",
     "start_time": "2024-11-25T05:20:58.923297Z"
    }
   },
   "outputs": [],
   "source": [
    "from ELM import ML_FELM, ELMClassifier,FELM_AE"
   ]
  },
  {
   "cell_type": "markdown",
   "id": "ee136bcc1a3043b",
   "metadata": {},
   "source": [
    "## HAR Dataset"
   ]
  },
  {
   "cell_type": "code",
   "execution_count": 51,
   "id": "e6cf86bcffa5dfc8",
   "metadata": {
    "ExecuteTime": {
     "end_time": "2024-11-25T05:21:01.374874Z",
     "start_time": "2024-11-25T05:21:00.666396Z"
    }
   },
   "outputs": [],
   "source": [
    "from sklearn.preprocessing import LabelEncoder\n",
    "X_train = train.drop(['subject', 'Activity', 'ActivityName'], axis=1).to_numpy()\n",
    "X_test = test.drop(['subject', 'Activity', 'ActivityName'], axis=1).to_numpy()\n",
    "y_train = train['Activity'].to_numpy()\n",
    "y_test = test['Activity'].to_numpy()\n",
    "\n",
    "y_train = y_train - 1\n",
    "y_test = y_test - 1\n",
    "\n",
    "scaler = StandardScaler()\n",
    "X_train = scaler.fit_transform(X_train)\n",
    "X_test = scaler.transform(X_test)\n"
   ]
  },
  {
   "cell_type": "code",
   "execution_count": 28,
   "id": "5cbd34fc",
   "metadata": {},
   "outputs": [
    {
     "name": "stdout",
     "output_type": "stream",
     "text": [
      "7352\n",
      "7352\n",
      "2947\n",
      "2947\n"
     ]
    }
   ],
   "source": [
    "print((len(X_train)))\n",
    "print(len(y_train))\n",
    "print(len(X_test))\n",
    "print(len(y_test))"
   ]
  },
  {
   "cell_type": "code",
   "execution_count": 55,
   "id": "3a01818b1be6a70f",
   "metadata": {
    "ExecuteTime": {
     "end_time": "2024-11-25T05:22:00.447010Z",
     "start_time": "2024-11-25T05:21:01.444483Z"
    }
   },
   "outputs": [
    {
     "name": "stdout",
     "output_type": "stream",
     "text": [
      "ELM\n",
      "              precision    recall  f1-score   support\n",
      "\n",
      "           0       0.89      0.99      0.93       496\n",
      "           1       0.91      0.90      0.90       471\n",
      "           2       0.98      0.86      0.92       420\n",
      "           3       0.90      0.82      0.86       491\n",
      "           4       0.82      0.92      0.86       532\n",
      "           5       1.00      0.95      0.98       537\n",
      "\n",
      "    accuracy                           0.91      2947\n",
      "   macro avg       0.92      0.91      0.91      2947\n",
      "weighted avg       0.91      0.91      0.91      2947\n",
      "\n",
      "Accuracy: 0.91\n",
      "ELM Training Time: 0.37 seconds\n",
      "\n",
      "============================\n"
     ]
    }
   ],
   "source": [
    "import time\n",
    "from sklearn.metrics import accuracy_score, classification_report\n",
    "\n",
    "# ELM Classifier\n",
    "print(\"ELM\")\n",
    "start_time = time.time()\n",
    "elm = ELMClassifier(n_hidden=256, activation=\"relu\")\n",
    "elm.fit(X_train, y_train)\n",
    "end_time = time.time()\n",
    "\n",
    "# Predict and evaluate\n",
    "y_pred = elm.predict(X_test)\n",
    "accuracy = accuracy_score(y_test, y_pred)\n",
    "\n",
    "# Print results\n",
    "print(classification_report(y_test, y_pred))\n",
    "print(f\"Accuracy: {accuracy:.2f}\")\n",
    "print(f\"ELM Training Time: {end_time - start_time:.2f} seconds\")\n",
    "\n",
    "print(\"\\n============================\")\n"
   ]
  },
  {
   "cell_type": "code",
   "execution_count": 111,
   "id": "bdeed0db",
   "metadata": {},
   "outputs": [
    {
     "name": "stdout",
     "output_type": "stream",
     "text": [
      "ML-FELM\n",
      "              precision    recall  f1-score   support\n",
      "\n",
      "           0       0.97      0.96      0.97       496\n",
      "           1       0.94      0.95      0.94       471\n",
      "           2       0.92      0.93      0.93       420\n",
      "           3       0.89      0.86      0.88       491\n",
      "           4       0.88      0.91      0.90       532\n",
      "           5       1.00      1.00      1.00       537\n",
      "\n",
      "    accuracy                           0.94      2947\n",
      "   macro avg       0.93      0.93      0.93      2947\n",
      "weighted avg       0.94      0.94      0.94      2947\n",
      "\n",
      "Test Accuracy: 0.94\n",
      "ML-FELM Training Time: 1.62 seconds\n"
     ]
    }
   ],
   "source": [
    "# ML-FELM Classifier\n",
    "print(\"ML-FELM\")\n",
    "layer_sizes = [256, 128]  # Number of hidden nodes in each layer\n",
    "fisher_lambdas = [0.5, 0.1]  # Fisher regularization for each layer\n",
    "\n",
    "start_time = time.time()\n",
    "ml_felm = ML_FELM(layer_sizes, fisher_lambdas, activation=\"relu\")\n",
    "ml_felm.fit(X_train, y_train)\n",
    "end_time = time.time()\n",
    "\n",
    "# Predict and evaluate\n",
    "y_pred = ml_felm.predict(X_test)\n",
    "accuracy = accuracy_score(y_test, y_pred)\n",
    "\n",
    "# Print results\n",
    "print(classification_report(y_test, y_pred))\n",
    "print(f\"Test Accuracy: {accuracy:.2f}\")\n",
    "print(f\"ML-FELM Training Time: {end_time - start_time:.2f} seconds\")"
   ]
  },
  {
   "cell_type": "code",
   "execution_count": 57,
   "id": "e5e740ee",
   "metadata": {},
   "outputs": [],
   "source": [
    "import pygad\n",
    "import numpy as np\n",
    "from sklearn.metrics import f1_score"
   ]
  },
  {
   "cell_type": "markdown",
   "id": "266a0edd",
   "metadata": {},
   "source": [
    "## GA ML-FELM"
   ]
  },
  {
   "cell_type": "code",
   "execution_count": 94,
   "id": "ba0e870a",
   "metadata": {},
   "outputs": [],
   "source": [
    "def fitness_function(ga_instance, solution, solution_idx):\n",
    "    feature_genes = solution[:-2]\n",
    "    k = [int(solution[-2])]  # Third-to-last gene is the value of k\n",
    "    fisher = [solution[-1]]  # Last gene (not used in computation)\n",
    "\n",
    "    feature_genes = np.rint(feature_genes)\n",
    "    \n",
    "    selected_features = np.where(feature_genes == 1)[0]\n",
    "    \n",
    "    if len(selected_features) == 0 or k[0] < 1:\n",
    "        return 0\n",
    "    \n",
    "    # Subset the dataset\n",
    "    X_train_subset = X_train[:, selected_features]\n",
    "    X_test_subset = X_test[:, selected_features]\n",
    "    \n",
    "    # Train the classifier\n",
    "    model = ML_FELM(k, fisher, activation=\"relu\")\n",
    "    model.fit(X_train_subset, y_train)\n",
    "    \n",
    "    # Predict and calculate the F1-score\n",
    "    y_pred = model.predict(X_test_subset)\n",
    "    f1 = f1_score(y_test, y_pred, average=\"weighted\")  # Weighted for multi-class\n",
    "    return f1"
   ]
  },
  {
   "cell_type": "code",
   "execution_count": 95,
   "id": "e9d1bc51",
   "metadata": {},
   "outputs": [],
   "source": [
    "# GA parameters\n",
    "num_features = X_train.shape[1]\n",
    "num_generations = 50\n",
    "num_parents_mating = 5\n",
    "sol_per_pop = 8\n",
    "num_genes = num_features + 2  # Features + k + fisher\n",
    "\n",
    "# Define gene space\n",
    "gene_space = [\n",
    "    {\"low\": 0, \"high\": 1},  # Feature selection genes (binary)\n",
    "] * num_features + [{\"low\": 1, \"high\": 256, \"step\": 1},  # k values (range 1 to 20 () integer)\n",
    "                    {\"low\": 0.0, \"high\": 1.0}]  # fisher"
   ]
  },
  {
   "cell_type": "code",
   "execution_count": 96,
   "id": "ee557f85",
   "metadata": {},
   "outputs": [
    {
     "name": "stderr",
     "output_type": "stream",
     "text": [
      "c:\\Users\\ASK\\AppData\\Local\\Programs\\Python\\Python311\\Lib\\site-packages\\pygad\\pygad.py:1139: UserWarning: The 'delay_after_gen' parameter is deprecated starting from PyGAD 3.3.0. To delay or pause the evolution after each generation, assign a callback function/method to the 'on_generation' parameter to adds some time delay.\n",
      "  warnings.warn(\"The 'delay_after_gen' parameter is deprecated starting from PyGAD 3.3.0. To delay or pause the evolution after each generation, assign a callback function/method to the 'on_generation' parameter to adds some time delay.\")\n"
     ]
    },
    {
     "name": "stdout",
     "output_type": "stream",
     "text": [
      "Best Selected Features :  [  1   4   6   8   9  10  11  15  18  20  23  33  39  41  43  44  47  49\n",
      "  51  55  56  57  62  63  68  72  75  78  86  87  91  93  94  97  99 102\n",
      " 104 106 110 112 114 115 116 118 119 124 125 133 135 137 138 139 141 142\n",
      " 143 144 149 151 152 154 155 156 157 158 162 163 165 178 179 180 181 183\n",
      " 184 185 187 189 191 194 196 197 198 200 202 203 204 205 211 212 215 216\n",
      " 221 222 224 226 227 228 229 231 235 238 239 241 246 249 251 255 257 261\n",
      " 264 266 271 278 279 280 283 294 295 296 297 298 299 302 308 312 313 317\n",
      " 320 323 325 327 328 329 330 331 332 334 337 341 342 343 345 348 353 354\n",
      " 355 358 361 365 366 371 373 375 380 381 382 386 391 392 394 396 398 401\n",
      " 404 407 411 412 413 415 416 419 426 427 429 430 433 434 437 438 439 441\n",
      " 445 447 448 454 456 460 465 466 467 468 470 472 474 476 478 479 481 486\n",
      " 487 488 492 493 496 499 503 504 505 506 508 509 510 511 513 514 516 519\n",
      " 520 521 522 524 525 526 532 535 537 543 546 551 552 554]\n",
      "230\n",
      "Best Hidden Size :  252.0\n",
      "Best Fisher :  0.5295317006552874\n",
      "Best solution fitness (F1-score): 0.9404211257251331\n"
     ]
    }
   ],
   "source": [
    "ga_instance = pygad.GA(\n",
    "    num_generations=num_generations,\n",
    "    num_parents_mating=num_parents_mating,\n",
    "    fitness_func=fitness_function,\n",
    "    sol_per_pop=sol_per_pop,\n",
    "    num_genes=num_genes,\n",
    "    gene_space=gene_space,\n",
    "    gene_type=float,\n",
    "    parent_selection_type=\"sss\",\n",
    "    crossover_type=\"single_point\",\n",
    "    mutation_type=\"random\",\n",
    "    mutation_percent_genes=10,\n",
    "    stop_criteria=[\"reach_1\"]\n",
    ")\n",
    "\n",
    "# Run the GA\n",
    "ga_instance.run()\n",
    "\n",
    "# Best solution\n",
    "best_solution, best_solution_fitness, best_solution_idx = ga_instance.best_solution()\n",
    "best_feature = best_solution[:-2]\n",
    "best_feature = np.rint(best_feature)\n",
    "best_selected_features = np.where(best_feature == 1)[0]\n",
    "\n",
    "best_hidden_size = best_solution[-2]\n",
    "\n",
    "best_fisher = best_solution[-1]\n",
    "\n",
    "print(\"Best Selected Features : \", best_selected_features)\n",
    "print(len(best_selected_features))\n",
    "\n",
    "print(\"Best Hidden Size : \", best_hidden_size)\n",
    "\n",
    "print(\"Best Fisher : \", best_fisher)\n",
    "\n",
    "print(f\"Best solution fitness (F1-score): {best_solution_fitness}\")\n"
   ]
  },
  {
   "cell_type": "markdown",
   "id": "b834736a",
   "metadata": {},
   "source": [
    "## 2 Layer ML-FELM"
   ]
  },
  {
   "cell_type": "code",
   "execution_count": 117,
   "id": "ab171c02",
   "metadata": {},
   "outputs": [],
   "source": [
    "def fitness_function(ga_instance, solution, solution_idx):\n",
    "    feature_genes = solution[:-4]\n",
    "    k = [int(solution[-4]), int(solution[-3])]\n",
    "    fisher = [solution[-2], solution[-1]]\n",
    "\n",
    "    feature_genes = np.rint(feature_genes)\n",
    "    \n",
    "    selected_features = np.where(feature_genes == 1)[0]\n",
    "    \n",
    "    if len(selected_features) == 0 or np.any(np.array(k) < 1):\n",
    "        return 0\n",
    "    \n",
    "    # Subset the dataset\n",
    "    X_train_subset = X_train[:, selected_features]\n",
    "    X_test_subset = X_test[:, selected_features]\n",
    "    \n",
    "    # Train the classifier\n",
    "    model = ML_FELM(k, fisher, activation=\"relu\")\n",
    "    model.fit(X_train_subset, y_train)\n",
    "    \n",
    "    # Predict and calculate the F1-score\n",
    "    y_pred = model.predict(X_test_subset)\n",
    "    f1 = f1_score(y_test, y_pred, average=\"weighted\")  # Weighted for multi-class\n",
    "    return f1"
   ]
  },
  {
   "cell_type": "code",
   "execution_count": 118,
   "id": "210ae386",
   "metadata": {},
   "outputs": [],
   "source": [
    "# GA parameters\n",
    "num_features = X_train.shape[1]\n",
    "num_generations = 50\n",
    "num_parents_mating = 5\n",
    "sol_per_pop = 8\n",
    "num_genes = num_features + 4  # Features + k + fisher\n",
    "\n",
    "gene_space = (\n",
    "    [{\"low\": 0, \"high\": 1}] * num_features +  # Features (binary genes: 0 or 1)\n",
    "    [{\"low\": 1, \"high\": 256, \"step\": 1}] * 2 +  # k values (integer range: 1 to 256)\n",
    "    [{\"low\": 0.0, \"high\": 1.0}] * 2  # Fisher (float range: 0.0 to 1.0)\n",
    ")"
   ]
  },
  {
   "cell_type": "code",
   "execution_count": 119,
   "id": "4ed5cc7a",
   "metadata": {},
   "outputs": [
    {
     "name": "stderr",
     "output_type": "stream",
     "text": [
      "c:\\Users\\ASK\\AppData\\Local\\Programs\\Python\\Python311\\Lib\\site-packages\\pygad\\pygad.py:1139: UserWarning: The 'delay_after_gen' parameter is deprecated starting from PyGAD 3.3.0. To delay or pause the evolution after each generation, assign a callback function/method to the 'on_generation' parameter to adds some time delay.\n",
      "  warnings.warn(\"The 'delay_after_gen' parameter is deprecated starting from PyGAD 3.3.0. To delay or pause the evolution after each generation, assign a callback function/method to the 'on_generation' parameter to adds some time delay.\")\n"
     ]
    },
    {
     "name": "stdout",
     "output_type": "stream",
     "text": [
      "Best Selected Features :  [  0   4   5   6  12  15  16  18  21  22  23  24  25  27  28  36  37  41\n",
      "  50  51  52  54  55  62  63  65  67  68  69  70  73  76  82  83  84  85\n",
      "  87  88  91  92  93  95  97  99 100 101 102 103 104 108 109 114 120 121\n",
      " 122 126 127 128 129 131 132 133 137 141 142 144 145 146 147 149 150 153\n",
      " 155 160 165 166 171 175 176 177 178 179 180 181 182 183 184 186 188 195\n",
      " 196 197 198 201 203 207 208 209 211 213 214 216 221 234 236 239 240 241\n",
      " 242 243 247 250 253 255 266 267 272 273 275 276 277 278 282 283 285 287\n",
      " 288 290 291 293 294 296 297 302 303 306 308 311 312 316 317 318 321 322\n",
      " 323 325 326 327 329 332 333 334 335 340 342 346 347 348 349 350 351 355\n",
      " 356 358 359 362 364 370 371 372 374 376 381 384 386 387 390 393 394 395\n",
      " 396 402 403 405 409 410 414 415 419 420 422 424 425 426 427 428 430 431\n",
      " 433 434 437 439 444 446 447 448 450 451 454 455 456 457 460 461 462 467\n",
      " 468 471 472 474 475 477 487 488 490 492 502 503 504 511 512 520 525 527\n",
      " 529 530 534 536 539 545 552 553 558 560]\n",
      "244\n",
      "Best Hidden Size :  [252. 250.]\n",
      "Best Fisher :  [0.02246699 0.28361244]\n",
      "Best solution fitness (F1-score): 0.9482949044415044\n"
     ]
    }
   ],
   "source": [
    "ga_instance = pygad.GA(\n",
    "    num_generations=num_generations,\n",
    "    num_parents_mating=num_parents_mating,\n",
    "    fitness_func=fitness_function,\n",
    "    sol_per_pop=sol_per_pop,\n",
    "    num_genes=num_genes,\n",
    "    gene_space=gene_space,\n",
    "    gene_type=float,\n",
    "    parent_selection_type=\"sss\",\n",
    "    crossover_type=\"single_point\",\n",
    "    mutation_type=\"random\",\n",
    "    mutation_percent_genes=10,\n",
    "    stop_criteria=[\"reach_1\"]\n",
    ")\n",
    "\n",
    "# Run the GA\n",
    "ga_instance.run()\n",
    "\n",
    "# Best solution\n",
    "best_solution, best_solution_fitness, best_solution_idx = ga_instance.best_solution()\n",
    "best_feature = best_solution[:-4]\n",
    "best_feature = np.rint(best_feature)\n",
    "best_selected_features = np.where(best_feature == 1)[0]\n",
    "\n",
    "best_hidden_size = best_solution[-4:-2]\n",
    "\n",
    "best_fisher = best_solution[-2:]\n",
    "\n",
    "print(\"Best Selected Features : \", best_selected_features)\n",
    "print(len(best_selected_features))\n",
    "\n",
    "print(\"Best Hidden Size : \", best_hidden_size)\n",
    "\n",
    "print(\"Best Fisher : \", best_fisher)\n",
    "\n",
    "print(f\"Best solution fitness (F1-score): {best_solution_fitness}\")\n"
   ]
  },
  {
   "cell_type": "markdown",
   "id": "db99d564",
   "metadata": {},
   "source": [
    "## GA ELM"
   ]
  },
  {
   "cell_type": "code",
   "execution_count": 90,
   "id": "16e9712a",
   "metadata": {},
   "outputs": [],
   "source": [
    "def fitness_function(ga_instance, solution, solution_idx):\n",
    "    feature_genes = solution[:-1]\n",
    "    k = int(solution[-1])  # Third-to-last gene is the value of k\n",
    "\n",
    "    feature_genes = np.rint(feature_genes)\n",
    "    \n",
    "    selected_features = np.where(feature_genes == 1)[0]\n",
    "    \n",
    "    if len(selected_features) == 0 or k < 1:\n",
    "        return 0\n",
    "    \n",
    "    # Subset the dataset\n",
    "    X_train_subset = X_train[:, selected_features]\n",
    "    X_test_subset = X_test[:, selected_features]\n",
    "    \n",
    "    # Train the classifier\n",
    "    model = ELMClassifier(n_hidden=k, activation=\"relu\")\n",
    "    model.fit(X_train_subset, y_train)\n",
    "    \n",
    "    # Predict and calculate the F1-score\n",
    "    y_pred = model.predict(X_test_subset)\n",
    "    f1 = f1_score(y_test, y_pred, average=\"weighted\")  # Weighted for multi-class\n",
    "    return f1"
   ]
  },
  {
   "cell_type": "code",
   "execution_count": 91,
   "id": "790d932f",
   "metadata": {},
   "outputs": [],
   "source": [
    "# GA parameters\n",
    "num_features = X_train.shape[1]\n",
    "num_generations = 50\n",
    "num_parents_mating = 5\n",
    "sol_per_pop = 8\n",
    "num_genes = num_features + 1  # Features + k\n",
    "\n",
    "# Define gene space\n",
    "gene_space = [\n",
    "    {\"low\": 0, \"high\": 1},  # Feature selection genes (binary)\n",
    "] * num_features + [{\"low\": 1, \"high\": 256, \"step\": 1}]  # k values (range 1 to 20 () integer) "
   ]
  },
  {
   "cell_type": "code",
   "execution_count": 93,
   "id": "93cf2e2e",
   "metadata": {},
   "outputs": [
    {
     "name": "stderr",
     "output_type": "stream",
     "text": [
      "c:\\Users\\ASK\\AppData\\Local\\Programs\\Python\\Python311\\Lib\\site-packages\\pygad\\pygad.py:1139: UserWarning: The 'delay_after_gen' parameter is deprecated starting from PyGAD 3.3.0. To delay or pause the evolution after each generation, assign a callback function/method to the 'on_generation' parameter to adds some time delay.\n",
      "  warnings.warn(\"The 'delay_after_gen' parameter is deprecated starting from PyGAD 3.3.0. To delay or pause the evolution after each generation, assign a callback function/method to the 'on_generation' parameter to adds some time delay.\")\n"
     ]
    },
    {
     "name": "stdout",
     "output_type": "stream",
     "text": [
      "Best Selected Features :  [  1   3   8  10  11  12  15  19  20  21  25  26  29  38  39  42  46  47\n",
      "  48  53  56  63  71  72  73  75  78  83  84  85  87  90  92  93  94  95\n",
      "  96  98 100 101 102 105 106 107 111 121 122 126 128 129 130 133 135 138\n",
      " 139 140 142 144 145 146 149 152 156 157 165 169 172 173 176 178 182 185\n",
      " 186 187 188 193 195 197 200 201 202 203 205 207 209 211 213 214 215 216\n",
      " 217 218 223 225 226 228 232 234 237 238 240 241 242 244 249 251 253 259\n",
      " 260 262 265 266 273 275 280 281 285 294 297 299 302 310 312 323 330 333\n",
      " 334 336 340 343 344 345 347 348 349 354 355 356 358 360 365 368 374 376\n",
      " 377 379 380 384 385 388 391 394 396 398 399 400 401 403 405 407 411 412\n",
      " 413 416 418 419 424 425 426 427 430 431 433 434 438 439 442 446 448 451\n",
      " 452 456 458 459 461 462 465 466 476 477 478 481 483 486 489 490 492 497\n",
      " 499 501 504 505 506 508 510 511 513 515 518 521 526 529 530 533 536 537\n",
      " 541 542 543 546 550 551 554 556 557 558]\n",
      "226\n",
      "Best Hidden Size :  240.0\n",
      "Best solution fitness (F1-score): 0.9365690687067759\n"
     ]
    }
   ],
   "source": [
    "ga_instance = pygad.GA(\n",
    "    num_generations=num_generations,\n",
    "    num_parents_mating=num_parents_mating,\n",
    "    fitness_func=fitness_function,\n",
    "    sol_per_pop=sol_per_pop,\n",
    "    num_genes=num_genes,\n",
    "    gene_space=gene_space,\n",
    "    gene_type=float,\n",
    "    parent_selection_type=\"sss\",\n",
    "    crossover_type=\"single_point\",\n",
    "    mutation_type=\"random\",\n",
    "    mutation_percent_genes=10,\n",
    "    stop_criteria=[\"reach_1\"]\n",
    ")\n",
    "\n",
    "# Run the GA\n",
    "ga_instance.run()\n",
    "\n",
    "# Best solution\n",
    "best_solution, best_solution_fitness, best_solution_idx = ga_instance.best_solution()\n",
    "best_feature = best_solution[:-1]\n",
    "best_feature = np.rint(best_feature)\n",
    "best_selected_features = np.where(best_feature == 1)[0]\n",
    "\n",
    "best_hidden_size = best_solution[-1]\n",
    "\n",
    "print(\"Best Selected Features : \", best_selected_features)\n",
    "print(len(best_selected_features))\n",
    "\n",
    "print(\"Best Hidden Size : \", best_hidden_size)\n",
    "\n",
    "print(f\"Best solution fitness (F1-score): {best_solution_fitness}\")\n"
   ]
  }
 ],
 "metadata": {
  "kernelspec": {
   "display_name": "Python 3",
   "language": "python",
   "name": "python3"
  },
  "language_info": {
   "codemirror_mode": {
    "name": "ipython",
    "version": 3
   },
   "file_extension": ".py",
   "mimetype": "text/x-python",
   "name": "python",
   "nbconvert_exporter": "python",
   "pygments_lexer": "ipython3",
   "version": "3.11.0"
  }
 },
 "nbformat": 4,
 "nbformat_minor": 5
}
