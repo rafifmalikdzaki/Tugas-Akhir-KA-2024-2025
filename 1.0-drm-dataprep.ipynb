{
 "cells": [
  {
   "cell_type": "code",
   "id": "initial_id",
   "metadata": {
    "collapsed": true,
    "ExecuteTime": {
     "end_time": "2024-11-18T11:08:00.085735Z",
     "start_time": "2024-11-18T11:07:52.174707Z"
    }
   },
   "source": [
    "import os\n",
    "import pandas as pd\n",
    "\n",
    "# Path to the dataset folder (update this with your actual dataset folder path)\n",
    "dataset = ['A01 - Walking', 'A02 - Sitting', 'A03 - Standing', 'A04 - Jogging', 'A05 - CrossLeg', 'A06 - Laying', 'A07 - CirWalk', 'A08 - StairUp','A09 - StairDown', 'A10 - SitUp']\n",
    "\n",
    "dataset_path =\"./FLAAP\"\n",
    "\n",
    "# Output dataframe\n",
    "all_data = []\n",
    "\n",
    "# Iterate through each activity folder\n",
    "for activity_dir in os.listdir(dataset_path):\n",
    "    activity_path = os.path.join(dataset_path, activity_dir)\n",
    "\n",
    "    # Skip if it's not a directory\n",
    "    if not os.path.isdir(activity_path):\n",
    "        continue\n",
    "\n",
    "    # Extract activity label from directory name (e.g., \"A01 - Walking\" -> \"Walking\")\n",
    "    activity_label = activity_dir.split(\" - \")[1]\n",
    "\n",
    "    # Paths to the accelerometer and gyroscope CSV files\n",
    "    accel_file = os.path.join(activity_path, \"Trimmed - Accelerometer Data.csv\")\n",
    "    gyro_file = os.path.join(activity_path, \"Trimmed - Gyroscope Data.csv\")\n",
    "\n",
    "    # Check if both files exist\n",
    "    if os.path.exists(accel_file) and os.path.exists(gyro_file):\n",
    "        # Read the CSV files\n",
    "        accel_data = pd.read_csv(accel_file)\n",
    "        gyro_data = pd.read_csv(gyro_file)\n",
    "\n",
    "        # Merge the accelerometer and gyroscope data\n",
    "        merged_data = pd.concat([accel_data, gyro_data], axis=1).drop(['Activity'], axis=1)\n",
    "\n",
    "        # Add the label column\n",
    "        merged_data[\"Label\"] = activity_label\n",
    "\n",
    "        # Append to the output list\n",
    "        all_data.append(merged_data)\n",
    "\n",
    "# Combine all data into a single DataFrame\n",
    "final_dataset = pd.concat(all_data, ignore_index=True)\n",
    "\n",
    "# Save the aggregated dataset to a CSV file\n",
    "output_file = \"aggregated_dataset.csv\"\n",
    "final_dataset.to_csv(output_file, index=False)\n",
    "\n",
    "print(f\"Aggregated dataset saved to {output_file}\")"
   ],
   "outputs": [
    {
     "name": "stdout",
     "output_type": "stream",
     "text": [
      "Aggregated dataset saved to aggregated_dataset.csv\n"
     ]
    }
   ],
   "execution_count": 1
  },
  {
   "metadata": {
    "ExecuteTime": {
     "end_time": "2024-11-18T11:08:00.114087Z",
     "start_time": "2024-11-18T11:08:00.102777Z"
    }
   },
   "cell_type": "code",
   "source": "final_dataset",
   "id": "36c26bac8b3f291b",
   "outputs": [
    {
     "data": {
      "text/plain": [
       "         TimestampAcc     Acc_X     Acc_Y     Acc_Z  TimestampGyr     Gyr_X  \\\n",
       "0        1.646240e+12  2.396596  7.656657  0.433351  1.646240e+12 -0.917193   \n",
       "1        1.646240e+12  2.274492  7.716512  0.524330  1.646240e+12 -0.903877   \n",
       "2        1.646240e+12  2.197877  7.706935  0.610521  1.646240e+12 -0.884170   \n",
       "3        1.646240e+12  2.149993  7.647080  0.696713  1.646240e+12 -0.860201   \n",
       "4        1.646240e+12  2.015918  7.647080  0.804452  1.646240e+12 -0.833037   \n",
       "...               ...       ...       ...       ...           ...       ...   \n",
       "1061595  1.650000e+12 -1.216254  2.284068  9.471462  1.650000e+12  0.055926   \n",
       "1061596  1.650000e+12 -1.244985  2.324770  9.313444  1.650000e+12  0.047937   \n",
       "1061597  1.650000e+12 -1.240196  2.348712  9.263166  1.650000e+12  0.023968   \n",
       "1061598  1.650000e+12 -0.833182  2.161964  9.325416  1.650000e+12 -0.004794   \n",
       "1061599  1.650000e+12 -0.924162  2.346318  9.387665  1.650000e+12 -0.028230   \n",
       "\n",
       "            Gyr_Y     Gyr_Z    Label  \n",
       "0       -0.042078  1.821602  Walking  \n",
       "1       -0.131560  1.839179  Walking  \n",
       "2       -0.206661  1.847701  Walking  \n",
       "3       -0.272708  1.851430  Walking  \n",
       "4       -0.322775  1.849299  Walking  \n",
       "...           ...       ...      ...  \n",
       "1061595  1.005610 -0.011718    SitUp  \n",
       "1061596  0.945955 -0.038350    SitUp  \n",
       "1061597  0.885767 -0.079362    SitUp  \n",
       "1061598  0.833569 -0.120908    SitUp  \n",
       "1061599  0.784035 -0.154463    SitUp  \n",
       "\n",
       "[1061600 rows x 9 columns]"
      ],
      "text/html": [
       "<div>\n",
       "<style scoped>\n",
       "    .dataframe tbody tr th:only-of-type {\n",
       "        vertical-align: middle;\n",
       "    }\n",
       "\n",
       "    .dataframe tbody tr th {\n",
       "        vertical-align: top;\n",
       "    }\n",
       "\n",
       "    .dataframe thead th {\n",
       "        text-align: right;\n",
       "    }\n",
       "</style>\n",
       "<table border=\"1\" class=\"dataframe\">\n",
       "  <thead>\n",
       "    <tr style=\"text-align: right;\">\n",
       "      <th></th>\n",
       "      <th>TimestampAcc</th>\n",
       "      <th>Acc_X</th>\n",
       "      <th>Acc_Y</th>\n",
       "      <th>Acc_Z</th>\n",
       "      <th>TimestampGyr</th>\n",
       "      <th>Gyr_X</th>\n",
       "      <th>Gyr_Y</th>\n",
       "      <th>Gyr_Z</th>\n",
       "      <th>Label</th>\n",
       "    </tr>\n",
       "  </thead>\n",
       "  <tbody>\n",
       "    <tr>\n",
       "      <th>0</th>\n",
       "      <td>1.646240e+12</td>\n",
       "      <td>2.396596</td>\n",
       "      <td>7.656657</td>\n",
       "      <td>0.433351</td>\n",
       "      <td>1.646240e+12</td>\n",
       "      <td>-0.917193</td>\n",
       "      <td>-0.042078</td>\n",
       "      <td>1.821602</td>\n",
       "      <td>Walking</td>\n",
       "    </tr>\n",
       "    <tr>\n",
       "      <th>1</th>\n",
       "      <td>1.646240e+12</td>\n",
       "      <td>2.274492</td>\n",
       "      <td>7.716512</td>\n",
       "      <td>0.524330</td>\n",
       "      <td>1.646240e+12</td>\n",
       "      <td>-0.903877</td>\n",
       "      <td>-0.131560</td>\n",
       "      <td>1.839179</td>\n",
       "      <td>Walking</td>\n",
       "    </tr>\n",
       "    <tr>\n",
       "      <th>2</th>\n",
       "      <td>1.646240e+12</td>\n",
       "      <td>2.197877</td>\n",
       "      <td>7.706935</td>\n",
       "      <td>0.610521</td>\n",
       "      <td>1.646240e+12</td>\n",
       "      <td>-0.884170</td>\n",
       "      <td>-0.206661</td>\n",
       "      <td>1.847701</td>\n",
       "      <td>Walking</td>\n",
       "    </tr>\n",
       "    <tr>\n",
       "      <th>3</th>\n",
       "      <td>1.646240e+12</td>\n",
       "      <td>2.149993</td>\n",
       "      <td>7.647080</td>\n",
       "      <td>0.696713</td>\n",
       "      <td>1.646240e+12</td>\n",
       "      <td>-0.860201</td>\n",
       "      <td>-0.272708</td>\n",
       "      <td>1.851430</td>\n",
       "      <td>Walking</td>\n",
       "    </tr>\n",
       "    <tr>\n",
       "      <th>4</th>\n",
       "      <td>1.646240e+12</td>\n",
       "      <td>2.015918</td>\n",
       "      <td>7.647080</td>\n",
       "      <td>0.804452</td>\n",
       "      <td>1.646240e+12</td>\n",
       "      <td>-0.833037</td>\n",
       "      <td>-0.322775</td>\n",
       "      <td>1.849299</td>\n",
       "      <td>Walking</td>\n",
       "    </tr>\n",
       "    <tr>\n",
       "      <th>...</th>\n",
       "      <td>...</td>\n",
       "      <td>...</td>\n",
       "      <td>...</td>\n",
       "      <td>...</td>\n",
       "      <td>...</td>\n",
       "      <td>...</td>\n",
       "      <td>...</td>\n",
       "      <td>...</td>\n",
       "      <td>...</td>\n",
       "    </tr>\n",
       "    <tr>\n",
       "      <th>1061595</th>\n",
       "      <td>1.650000e+12</td>\n",
       "      <td>-1.216254</td>\n",
       "      <td>2.284068</td>\n",
       "      <td>9.471462</td>\n",
       "      <td>1.650000e+12</td>\n",
       "      <td>0.055926</td>\n",
       "      <td>1.005610</td>\n",
       "      <td>-0.011718</td>\n",
       "      <td>SitUp</td>\n",
       "    </tr>\n",
       "    <tr>\n",
       "      <th>1061596</th>\n",
       "      <td>1.650000e+12</td>\n",
       "      <td>-1.244985</td>\n",
       "      <td>2.324770</td>\n",
       "      <td>9.313444</td>\n",
       "      <td>1.650000e+12</td>\n",
       "      <td>0.047937</td>\n",
       "      <td>0.945955</td>\n",
       "      <td>-0.038350</td>\n",
       "      <td>SitUp</td>\n",
       "    </tr>\n",
       "    <tr>\n",
       "      <th>1061597</th>\n",
       "      <td>1.650000e+12</td>\n",
       "      <td>-1.240196</td>\n",
       "      <td>2.348712</td>\n",
       "      <td>9.263166</td>\n",
       "      <td>1.650000e+12</td>\n",
       "      <td>0.023968</td>\n",
       "      <td>0.885767</td>\n",
       "      <td>-0.079362</td>\n",
       "      <td>SitUp</td>\n",
       "    </tr>\n",
       "    <tr>\n",
       "      <th>1061598</th>\n",
       "      <td>1.650000e+12</td>\n",
       "      <td>-0.833182</td>\n",
       "      <td>2.161964</td>\n",
       "      <td>9.325416</td>\n",
       "      <td>1.650000e+12</td>\n",
       "      <td>-0.004794</td>\n",
       "      <td>0.833569</td>\n",
       "      <td>-0.120908</td>\n",
       "      <td>SitUp</td>\n",
       "    </tr>\n",
       "    <tr>\n",
       "      <th>1061599</th>\n",
       "      <td>1.650000e+12</td>\n",
       "      <td>-0.924162</td>\n",
       "      <td>2.346318</td>\n",
       "      <td>9.387665</td>\n",
       "      <td>1.650000e+12</td>\n",
       "      <td>-0.028230</td>\n",
       "      <td>0.784035</td>\n",
       "      <td>-0.154463</td>\n",
       "      <td>SitUp</td>\n",
       "    </tr>\n",
       "  </tbody>\n",
       "</table>\n",
       "<p>1061600 rows × 9 columns</p>\n",
       "</div>"
      ]
     },
     "execution_count": 2,
     "metadata": {},
     "output_type": "execute_result"
    }
   ],
   "execution_count": 2
  },
  {
   "metadata": {
    "ExecuteTime": {
     "end_time": "2024-11-18T11:08:00.256785Z",
     "start_time": "2024-11-18T11:08:00.219158Z"
    }
   },
   "cell_type": "code",
   "source": "final_dataset.Label.value_counts()",
   "id": "6a38397c6d40b032",
   "outputs": [
    {
     "data": {
      "text/plain": [
       "Label\n",
       "Walking      205600\n",
       "Jogging      158500\n",
       "Sitting      144900\n",
       "CirWalk      143800\n",
       "CrossLeg     130300\n",
       "StairDown    103300\n",
       "Laying        97300\n",
       "SitUp         77900\n",
       "Name: count, dtype: int64"
      ]
     },
     "execution_count": 3,
     "metadata": {},
     "output_type": "execute_result"
    }
   ],
   "execution_count": 3
  },
  {
   "metadata": {
    "ExecuteTime": {
     "end_time": "2024-11-18T11:08:00.313546Z",
     "start_time": "2024-11-18T11:08:00.311394Z"
    }
   },
   "cell_type": "code",
   "source": "final_dataset.shape",
   "id": "2425d864b7b9905f",
   "outputs": [
    {
     "data": {
      "text/plain": [
       "(1061600, 9)"
      ]
     },
     "execution_count": 4,
     "metadata": {},
     "output_type": "execute_result"
    }
   ],
   "execution_count": 4
  },
  {
   "metadata": {},
   "cell_type": "markdown",
   "source": "# Train",
   "id": "af824f3897025ccb"
  },
  {
   "metadata": {
    "ExecuteTime": {
     "end_time": "2024-11-18T11:08:00.803484Z",
     "start_time": "2024-11-18T11:08:00.798210Z"
    }
   },
   "cell_type": "code",
   "source": "final_dataset.columns",
   "id": "37589c4ed632243",
   "outputs": [
    {
     "data": {
      "text/plain": [
       "Index(['TimestampAcc', 'Acc_X', 'Acc_Y', 'Acc_Z', 'TimestampGyr', 'Gyr_X',\n",
       "       'Gyr_Y', 'Gyr_Z', 'Label'],\n",
       "      dtype='object')"
      ]
     },
     "execution_count": 5,
     "metadata": {},
     "output_type": "execute_result"
    }
   ],
   "execution_count": 5
  },
  {
   "metadata": {
    "ExecuteTime": {
     "end_time": "2024-11-18T11:08:00.933146Z",
     "start_time": "2024-11-18T11:08:00.919685Z"
    }
   },
   "cell_type": "code",
   "source": [
    "X = final_dataset[['Acc_X', 'Acc_Y', 'Acc_Z', 'Gyr_X', 'Gyr_Y', 'Gyr_Z']]\n",
    "y = final_dataset['Label'].to_numpy()"
   ],
   "id": "bd6d38d9cd21d1ce",
   "outputs": [],
   "execution_count": 6
  },
  {
   "metadata": {
    "ExecuteTime": {
     "end_time": "2024-11-18T11:08:03.696606Z",
     "start_time": "2024-11-18T11:08:03.691299Z"
    }
   },
   "cell_type": "code",
   "source": "X",
   "id": "59b864e793bb95ee",
   "outputs": [
    {
     "data": {
      "text/plain": [
       "            Acc_X     Acc_Y     Acc_Z     Gyr_X     Gyr_Y     Gyr_Z\n",
       "0        2.396596  7.656657  0.433351 -0.917193 -0.042078  1.821602\n",
       "1        2.274492  7.716512  0.524330 -0.903877 -0.131560  1.839179\n",
       "2        2.197877  7.706935  0.610521 -0.884170 -0.206661  1.847701\n",
       "3        2.149993  7.647080  0.696713 -0.860201 -0.272708  1.851430\n",
       "4        2.015918  7.647080  0.804452 -0.833037 -0.322775  1.849299\n",
       "...           ...       ...       ...       ...       ...       ...\n",
       "1061595 -1.216254  2.284068  9.471462  0.055926  1.005610 -0.011718\n",
       "1061596 -1.244985  2.324770  9.313444  0.047937  0.945955 -0.038350\n",
       "1061597 -1.240196  2.348712  9.263166  0.023968  0.885767 -0.079362\n",
       "1061598 -0.833182  2.161964  9.325416 -0.004794  0.833569 -0.120908\n",
       "1061599 -0.924162  2.346318  9.387665 -0.028230  0.784035 -0.154463\n",
       "\n",
       "[1061600 rows x 6 columns]"
      ],
      "text/html": [
       "<div>\n",
       "<style scoped>\n",
       "    .dataframe tbody tr th:only-of-type {\n",
       "        vertical-align: middle;\n",
       "    }\n",
       "\n",
       "    .dataframe tbody tr th {\n",
       "        vertical-align: top;\n",
       "    }\n",
       "\n",
       "    .dataframe thead th {\n",
       "        text-align: right;\n",
       "    }\n",
       "</style>\n",
       "<table border=\"1\" class=\"dataframe\">\n",
       "  <thead>\n",
       "    <tr style=\"text-align: right;\">\n",
       "      <th></th>\n",
       "      <th>Acc_X</th>\n",
       "      <th>Acc_Y</th>\n",
       "      <th>Acc_Z</th>\n",
       "      <th>Gyr_X</th>\n",
       "      <th>Gyr_Y</th>\n",
       "      <th>Gyr_Z</th>\n",
       "    </tr>\n",
       "  </thead>\n",
       "  <tbody>\n",
       "    <tr>\n",
       "      <th>0</th>\n",
       "      <td>2.396596</td>\n",
       "      <td>7.656657</td>\n",
       "      <td>0.433351</td>\n",
       "      <td>-0.917193</td>\n",
       "      <td>-0.042078</td>\n",
       "      <td>1.821602</td>\n",
       "    </tr>\n",
       "    <tr>\n",
       "      <th>1</th>\n",
       "      <td>2.274492</td>\n",
       "      <td>7.716512</td>\n",
       "      <td>0.524330</td>\n",
       "      <td>-0.903877</td>\n",
       "      <td>-0.131560</td>\n",
       "      <td>1.839179</td>\n",
       "    </tr>\n",
       "    <tr>\n",
       "      <th>2</th>\n",
       "      <td>2.197877</td>\n",
       "      <td>7.706935</td>\n",
       "      <td>0.610521</td>\n",
       "      <td>-0.884170</td>\n",
       "      <td>-0.206661</td>\n",
       "      <td>1.847701</td>\n",
       "    </tr>\n",
       "    <tr>\n",
       "      <th>3</th>\n",
       "      <td>2.149993</td>\n",
       "      <td>7.647080</td>\n",
       "      <td>0.696713</td>\n",
       "      <td>-0.860201</td>\n",
       "      <td>-0.272708</td>\n",
       "      <td>1.851430</td>\n",
       "    </tr>\n",
       "    <tr>\n",
       "      <th>4</th>\n",
       "      <td>2.015918</td>\n",
       "      <td>7.647080</td>\n",
       "      <td>0.804452</td>\n",
       "      <td>-0.833037</td>\n",
       "      <td>-0.322775</td>\n",
       "      <td>1.849299</td>\n",
       "    </tr>\n",
       "    <tr>\n",
       "      <th>...</th>\n",
       "      <td>...</td>\n",
       "      <td>...</td>\n",
       "      <td>...</td>\n",
       "      <td>...</td>\n",
       "      <td>...</td>\n",
       "      <td>...</td>\n",
       "    </tr>\n",
       "    <tr>\n",
       "      <th>1061595</th>\n",
       "      <td>-1.216254</td>\n",
       "      <td>2.284068</td>\n",
       "      <td>9.471462</td>\n",
       "      <td>0.055926</td>\n",
       "      <td>1.005610</td>\n",
       "      <td>-0.011718</td>\n",
       "    </tr>\n",
       "    <tr>\n",
       "      <th>1061596</th>\n",
       "      <td>-1.244985</td>\n",
       "      <td>2.324770</td>\n",
       "      <td>9.313444</td>\n",
       "      <td>0.047937</td>\n",
       "      <td>0.945955</td>\n",
       "      <td>-0.038350</td>\n",
       "    </tr>\n",
       "    <tr>\n",
       "      <th>1061597</th>\n",
       "      <td>-1.240196</td>\n",
       "      <td>2.348712</td>\n",
       "      <td>9.263166</td>\n",
       "      <td>0.023968</td>\n",
       "      <td>0.885767</td>\n",
       "      <td>-0.079362</td>\n",
       "    </tr>\n",
       "    <tr>\n",
       "      <th>1061598</th>\n",
       "      <td>-0.833182</td>\n",
       "      <td>2.161964</td>\n",
       "      <td>9.325416</td>\n",
       "      <td>-0.004794</td>\n",
       "      <td>0.833569</td>\n",
       "      <td>-0.120908</td>\n",
       "    </tr>\n",
       "    <tr>\n",
       "      <th>1061599</th>\n",
       "      <td>-0.924162</td>\n",
       "      <td>2.346318</td>\n",
       "      <td>9.387665</td>\n",
       "      <td>-0.028230</td>\n",
       "      <td>0.784035</td>\n",
       "      <td>-0.154463</td>\n",
       "    </tr>\n",
       "  </tbody>\n",
       "</table>\n",
       "<p>1061600 rows × 6 columns</p>\n",
       "</div>"
      ]
     },
     "execution_count": 7,
     "metadata": {},
     "output_type": "execute_result"
    }
   ],
   "execution_count": 7
  },
  {
   "metadata": {
    "ExecuteTime": {
     "end_time": "2024-11-18T11:08:04.656677Z",
     "start_time": "2024-11-18T11:08:04.312705Z"
    }
   },
   "cell_type": "code",
   "source": [
    "from sklearn.model_selection import train_test_split\n",
    "from sklearn.metrics import accuracy_score, classification_report\n",
    "from sklearn.preprocessing import StandardScaler\n"
   ],
   "id": "e9953a630fce0f59",
   "outputs": [],
   "execution_count": 8
  },
  {
   "metadata": {
    "ExecuteTime": {
     "end_time": "2024-11-18T11:08:05.383781Z",
     "start_time": "2024-11-18T11:08:04.659756Z"
    }
   },
   "cell_type": "code",
   "source": [
    "X_train, X_test, y_train, y_test = train_test_split(X, y, test_size=0.2, random_state=100, stratify=y)\n",
    "scaler = StandardScaler()\n",
    "X_train = scaler.fit_transform(X_train)\n",
    "X_test = scaler.transform(X_test)"
   ],
   "id": "5e44488551ff3300",
   "outputs": [],
   "execution_count": 9
  },
  {
   "metadata": {
    "ExecuteTime": {
     "end_time": "2024-11-18T11:08:05.405685Z",
     "start_time": "2024-11-18T11:08:05.402501Z"
    }
   },
   "cell_type": "code",
   "source": "from ELM import ML_FELM, ELMClassifier",
   "id": "ea5ae6dfcb35ab0",
   "outputs": [],
   "execution_count": 10
  },
  {
   "metadata": {
    "ExecuteTime": {
     "end_time": "2024-11-18T11:17:33.038194Z",
     "start_time": "2024-11-18T11:17:08.966236Z"
    }
   },
   "cell_type": "code",
   "source": [
    " print(\"ELM\")\n",
    "elm = ELMClassifier(n_hidden=50, activation=\"relu\")\n",
    "elm.fit(X_train, y_train)\n",
    "y_pred = elm.predict(X_test)\n",
    "# print(y_pred)\n",
    "accuracy = accuracy_score(y_test, y_pred)\n",
    "print(classification_report(y_test, y_pred))\n",
    "print(f\"Accuracy: {accuracy:.2f}\")\n",
    "\n",
    "print(\"\\n============================\")\n",
    "print(\"ML-FELM\")\n",
    "layer_sizes = [64, 32, 16]  # Number of hidden nodes in each layer\n",
    "fisher_lambdas = [0.1, 0.05, 0.01]  # Fisher regularization for each layer\n",
    "\n",
    "# Train ML-FELM\n",
    "ml_felm = ML_FELM(layer_sizes, fisher_lambdas, activation=\"relu\")\n",
    "ml_felm.fit(X_train, y_train)\n",
    "y_pred = ml_felm.predict(X_test)\n",
    "\n",
    "# Evaluate accuracy\n",
    "# print(y_pred)\n",
    "accuracy = accuracy_score(y_test, y_pred)\n",
    "print(classification_report(y_test, y_pred))\n",
    "print(f\"Test Accuracy: {accuracy:.2f}\")"
   ],
   "id": "680335cf03d110a4",
   "outputs": [
    {
     "name": "stdout",
     "output_type": "stream",
     "text": [
      "ELM\n",
      "              precision    recall  f1-score   support\n",
      "\n",
      "     CirWalk       0.38      0.41      0.39     28760\n",
      "    CrossLeg       0.60      0.20      0.30     26060\n",
      "     Jogging       0.53      0.49      0.51     31700\n",
      "      Laying       0.50      0.45      0.48     19460\n",
      "       SitUp       0.54      0.16      0.25     15580\n",
      "     Sitting       0.41      0.63      0.49     28980\n",
      "   StairDown       0.46      0.13      0.21     20660\n",
      "     Walking       0.35      0.61      0.45     41120\n",
      "\n",
      "    accuracy                           0.42    212320\n",
      "   macro avg       0.47      0.38      0.38    212320\n",
      "weighted avg       0.46      0.42      0.40    212320\n",
      "\n",
      "Accuracy: 0.42\n",
      "\n",
      "============================\n",
      "ML-FELM\n",
      "              precision    recall  f1-score   support\n",
      "\n",
      "     CirWalk       0.40      0.41      0.40     28760\n",
      "    CrossLeg       0.59      0.13      0.21     26060\n",
      "     Jogging       0.52      0.59      0.55     31700\n",
      "      Laying       0.50      0.36      0.42     19460\n",
      "       SitUp       0.46      0.20      0.28     15580\n",
      "     Sitting       0.45      0.75      0.56     28980\n",
      "   StairDown       0.43      0.15      0.23     20660\n",
      "     Walking       0.37      0.58      0.45     41120\n",
      "\n",
      "    accuracy                           0.43    212320\n",
      "   macro avg       0.46      0.39      0.39    212320\n",
      "weighted avg       0.46      0.43      0.41    212320\n",
      "\n",
      "Test Accuracy: 0.43\n"
     ]
    }
   ],
   "execution_count": 22
  }
 ],
 "metadata": {
  "kernelspec": {
   "display_name": "Python 3",
   "language": "python",
   "name": "python3"
  },
  "language_info": {
   "codemirror_mode": {
    "name": "ipython",
    "version": 2
   },
   "file_extension": ".py",
   "mimetype": "text/x-python",
   "name": "python",
   "nbconvert_exporter": "python",
   "pygments_lexer": "ipython2",
   "version": "2.7.6"
  }
 },
 "nbformat": 4,
 "nbformat_minor": 5
}
