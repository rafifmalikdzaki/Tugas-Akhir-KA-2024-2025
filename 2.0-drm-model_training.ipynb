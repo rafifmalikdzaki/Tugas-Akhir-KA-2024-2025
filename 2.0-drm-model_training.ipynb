{
 "cells": [
  {
   "metadata": {
    "ExecuteTime": {
     "end_time": "2024-11-25T05:20:57.527639Z",
     "start_time": "2024-11-25T05:20:55.951534Z"
    }
   },
   "cell_type": "code",
   "source": [
    "import pandas as pd\n",
    "final_dataset = pd.read_csv(\"./aggregated_dataset.csv\")"
   ],
   "id": "36c26bac8b3f291b",
   "outputs": [],
   "execution_count": 1
  },
  {
   "metadata": {
    "ExecuteTime": {
     "end_time": "2024-11-25T05:20:57.629225Z",
     "start_time": "2024-11-25T05:20:57.550423Z"
    }
   },
   "cell_type": "code",
   "source": "final_dataset.Label.value_counts()",
   "id": "6a38397c6d40b032",
   "outputs": [
    {
     "data": {
      "text/plain": [
       "Label\n",
       "Walking      205600\n",
       "Jogging      158500\n",
       "Sitting      144900\n",
       "CirWalk      143800\n",
       "CrossLeg     130300\n",
       "StairDown    103300\n",
       "Laying        97300\n",
       "SitUp         77900\n",
       "Name: count, dtype: int64"
      ]
     },
     "execution_count": 2,
     "metadata": {},
     "output_type": "execute_result"
    }
   ],
   "execution_count": 2
  },
  {
   "metadata": {
    "ExecuteTime": {
     "end_time": "2024-11-25T05:20:57.790905Z",
     "start_time": "2024-11-25T05:20:57.786633Z"
    }
   },
   "cell_type": "code",
   "source": "final_dataset.shape",
   "id": "2425d864b7b9905f",
   "outputs": [
    {
     "data": {
      "text/plain": [
       "(1061600, 9)"
      ]
     },
     "execution_count": 3,
     "metadata": {},
     "output_type": "execute_result"
    }
   ],
   "execution_count": 3
  },
  {
   "metadata": {},
   "cell_type": "markdown",
   "source": "# Train",
   "id": "af824f3897025ccb"
  },
  {
   "metadata": {
    "ExecuteTime": {
     "end_time": "2024-11-25T05:20:57.854932Z",
     "start_time": "2024-11-25T05:20:57.844217Z"
    }
   },
   "cell_type": "code",
   "source": "final_dataset.columns",
   "id": "37589c4ed632243",
   "outputs": [
    {
     "data": {
      "text/plain": [
       "Index(['TimestampAcc', 'Acc_X', 'Acc_Y', 'Acc_Z', 'TimestampGyr', 'Gyr_X',\n",
       "       'Gyr_Y', 'Gyr_Z', 'Label'],\n",
       "      dtype='object')"
      ]
     },
     "execution_count": 4,
     "metadata": {},
     "output_type": "execute_result"
    }
   ],
   "execution_count": 4
  },
  {
   "metadata": {
    "ExecuteTime": {
     "end_time": "2024-11-25T05:20:58.850077Z",
     "start_time": "2024-11-25T05:20:58.216694Z"
    }
   },
   "cell_type": "code",
   "source": [
    "from sklearn.model_selection import train_test_split\n",
    "from sklearn.metrics import accuracy_score, classification_report\n",
    "from sklearn.preprocessing import StandardScaler\n"
   ],
   "id": "e9953a630fce0f59",
   "outputs": [],
   "execution_count": 5
  },
  {
   "metadata": {
    "ExecuteTime": {
     "end_time": "2024-11-25T05:20:58.934706Z",
     "start_time": "2024-11-25T05:20:58.923297Z"
    }
   },
   "cell_type": "code",
   "source": "from ELM import ML_FELM, ELMClassifier,FELM_AE",
   "id": "ea5ae6dfcb35ab0",
   "outputs": [],
   "execution_count": 6
  },
  {
   "metadata": {},
   "cell_type": "markdown",
   "source": "# MNIST",
   "id": "93130b4571f37dec"
  },
  {
   "metadata": {
    "ExecuteTime": {
     "end_time": "2024-11-25T05:20:59.130480Z",
     "start_time": "2024-11-25T05:20:59.029859Z"
    }
   },
   "cell_type": "code",
   "source": [
    "from sklearn.datasets import load_digits\n",
    "X, y = load_digits(return_X_y=True)\n",
    "X_train, X_test, y_train, y_test = train_test_split(X, y, test_size=0.2, random_state=100, stratify=y)\n"
   ],
   "id": "271aaea33a1b5322",
   "outputs": [],
   "execution_count": 7
  },
  {
   "metadata": {
    "ExecuteTime": {
     "end_time": "2024-11-25T05:21:00.628728Z",
     "start_time": "2024-11-25T05:20:59.143842Z"
    }
   },
   "cell_type": "code",
   "source": [
    "import time\n",
    "from sklearn.metrics import accuracy_score, classification_report\n",
    "\n",
    "# ELM Classifier\n",
    "print(\"ELM\")\n",
    "start_time = time.time()\n",
    "elm = ELMClassifier(n_hidden=128, activation=\"relu\")\n",
    "elm.fit(X_train, y_train)\n",
    "end_time = time.time()\n",
    "\n",
    "# Predict and evaluate\n",
    "y_pred = elm.predict(X_test)\n",
    "accuracy = accuracy_score(y_test, y_pred)\n",
    "\n",
    "# Print results\n",
    "print(classification_report(y_test, y_pred))\n",
    "print(f\"Accuracy: {accuracy:.2f}\")\n",
    "print(f\"ELM Training Time: {end_time - start_time:.2f} seconds\")\n",
    "\n",
    "print(\"\\n============================\")\n",
    "\n",
    "# ML-FELM Classifier\n",
    "print(\"ML-FELM\")\n",
    "layer_sizes = [96, 96, 128]  # Number of hidden nodes in each layer\n",
    "fisher_lambdas = [0.5, 0.25, 0.25]  # Fisher regularization for each layer\n",
    "\n",
    "start_time = time.time()\n",
    "ml_felm = ML_FELM(layer_sizes, fisher_lambdas, activation=\"relu\")\n",
    "ml_felm.fit(X_train, y_train)\n",
    "end_time = time.time()\n",
    "\n",
    "# Predict and evaluate\n",
    "y_pred = ml_felm.predict(X_test)\n",
    "accuracy = accuracy_score(y_test, y_pred)\n",
    "\n",
    "# Print results\n",
    "print(classification_report(y_test, y_pred))\n",
    "print(f\"Test Accuracy: {accuracy:.2f}\")\n",
    "print(f\"ML-FELM Training Time: {end_time - start_time:.2f} seconds\")\n",
    "\n"
   ],
   "id": "662e883142b6c425",
   "outputs": [
    {
     "name": "stdout",
     "output_type": "stream",
     "text": [
      "ELM\n",
      "              precision    recall  f1-score   support\n",
      "\n",
      "           0       1.00      1.00      1.00        36\n",
      "           1       0.90      0.95      0.92        37\n",
      "           2       0.97      1.00      0.99        35\n",
      "           3       1.00      0.92      0.96        37\n",
      "           4       1.00      0.94      0.97        36\n",
      "           5       0.92      1.00      0.96        36\n",
      "           6       1.00      0.92      0.96        36\n",
      "           7       0.94      0.94      0.94        36\n",
      "           8       0.94      0.91      0.93        35\n",
      "           9       0.85      0.92      0.88        36\n",
      "\n",
      "    accuracy                           0.95       360\n",
      "   macro avg       0.95      0.95      0.95       360\n",
      "weighted avg       0.95      0.95      0.95       360\n",
      "\n",
      "Accuracy: 0.95\n",
      "ELM Training Time: 0.95 seconds\n",
      "\n",
      "============================\n",
      "ML-FELM\n",
      "              precision    recall  f1-score   support\n",
      "\n",
      "           0       1.00      0.97      0.99        36\n",
      "           1       0.95      0.97      0.96        37\n",
      "           2       1.00      0.94      0.97        35\n",
      "           3       0.97      0.89      0.93        37\n",
      "           4       1.00      0.94      0.97        36\n",
      "           5       0.95      0.97      0.96        36\n",
      "           6       1.00      0.97      0.99        36\n",
      "           7       0.92      0.94      0.93        36\n",
      "           8       0.82      0.89      0.85        35\n",
      "           9       0.85      0.92      0.88        36\n",
      "\n",
      "    accuracy                           0.94       360\n",
      "   macro avg       0.94      0.94      0.94       360\n",
      "weighted avg       0.94      0.94      0.94       360\n",
      "\n",
      "Test Accuracy: 0.94\n",
      "ML-FELM Training Time: 0.49 seconds\n"
     ]
    }
   ],
   "execution_count": 8
  },
  {
   "metadata": {},
   "cell_type": "markdown",
   "source": "## HAR Dataset",
   "id": "ee136bcc1a3043b"
  },
  {
   "metadata": {
    "ExecuteTime": {
     "end_time": "2024-11-25T07:41:15.308210Z",
     "start_time": "2024-11-25T07:41:14.695304Z"
    }
   },
   "cell_type": "code",
   "source": [
    "from sklearn.preprocessing import LabelEncoder\n",
    "import time\n",
    "from sklearn.metrics import accuracy_score, classification_report\n",
    "X = final_dataset[['Acc_X', 'Acc_Y', 'Acc_Z', 'Gyr_X', 'Gyr_Y', 'Gyr_Z']]\n",
    "y = final_dataset['Label'].to_numpy()\n",
    "le = LabelEncoder()\n",
    "y = le.fit_transform(y)\n",
    "\n",
    "X_train, X_test, y_train, y_test = train_test_split(X, y, test_size=0.2, random_state=100, stratify=y)\n",
    "scaler = StandardScaler()\n",
    "X_train = scaler.fit_transform(X_train)\n",
    "X_test = scaler.transform(X_test)\n"
   ],
   "id": "e6cf86bcffa5dfc8",
   "outputs": [],
   "execution_count": 22
  },
  {
   "metadata": {
    "ExecuteTime": {
     "end_time": "2024-11-25T07:41:21.556511Z",
     "start_time": "2024-11-25T07:41:21.550335Z"
    }
   },
   "cell_type": "code",
   "source": [
    "# from sklearn.datasets import make_classification, load_iris, load_wine\n",
    "# import numpy as np\n",
    "# iris = load_iris()\n",
    "# X = iris.data\n",
    "# y = iris.target\n",
    "# X = StandardScaler().fit_transform(X)\n",
    "# \n",
    "# X = X_train\n",
    "# y = y_train\n",
    "# \n",
    "# n_samples, n_features = X.shape\n",
    "# classes = np.unique(y)\n",
    "# y_onehot = np.zeros((n_samples, len(classes)))\n",
    "# for idx, cls in enumerate(classes):\n",
    "#     y_onehot[y == cls, idx] = 1\n",
    "# y = y_onehot\n",
    "# \n",
    "# print(\"ELM-Autoencoder\")\n",
    "# fisher_lambda = 0.1\n",
    "# n_hidden = 50\n",
    "# felm_ae = FELM_AE(n_hidden=n_hidden, fisher_lambda=fisher_lambda)\n",
    "# felm_ae.fit(X, y)\n",
    "# felm_ae.transform(X)\n",
    "\n",
    "# y"
   ],
   "id": "72cbe92caa3a74e2",
   "outputs": [],
   "execution_count": 23
  },
  {
   "metadata": {
    "ExecuteTime": {
     "end_time": "2024-11-25T08:42:25.020805Z",
     "start_time": "2024-11-25T08:21:46.871422Z"
    }
   },
   "cell_type": "code",
   "source": [
    "# ML-FELM Classifier\n",
    "print(\"ML-FELM\")\n",
    "layer_sizes = [512,384,384,384,384,384]  # Number of hidden nodes in each layer\n",
    "fisher_lambdas = [0.5, 0.5, 0.25, 0.25, 0.25, 0.25]  # Fisher regularization for each layer\n",
    "\n",
    "start_time = time.time()\n",
    "ml_felm = ML_FELM(layer_sizes, fisher_lambdas, activation=\"relu\")\n",
    "ml_felm.fit(X_train, y_train)\n",
    "end_time = time.time()\n",
    "\n",
    "# Predict and evaluate\n",
    "y_pred = ml_felm.predict(X_test)\n",
    "accuracy = accuracy_score(y_test, y_pred)\n",
    "\n",
    "# Print results\n",
    "print(classification_report(y_test, y_pred))\n",
    "print(f\"Test Accuracy: {accuracy:.2f}\")\n",
    "print(f\"ML-FELM Training Time: {end_time - start_time:.2f} seconds\")\n"
   ],
   "id": "3a01818b1be6a70f",
   "outputs": [
    {
     "name": "stdout",
     "output_type": "stream",
     "text": [
      "ML-FELM\n",
      "              precision    recall  f1-score   support\n",
      "\n",
      "           0       0.47      0.53      0.50     28760\n",
      "           1       0.70      0.46      0.55     26060\n",
      "           2       0.60      0.74      0.66     31700\n",
      "           3       0.71      0.43      0.53     19460\n",
      "           4       0.60      0.68      0.64     15580\n",
      "           5       0.73      0.70      0.72     28980\n",
      "           6       0.47      0.33      0.39     20660\n",
      "           7       0.49      0.63      0.55     41120\n",
      "\n",
      "    accuracy                           0.58    212320\n",
      "   macro avg       0.60      0.56      0.57    212320\n",
      "weighted avg       0.59      0.58      0.57    212320\n",
      "\n",
      "Test Accuracy: 0.58\n",
      "ML-FELM Training Time: 1234.01 seconds\n"
     ]
    }
   ],
   "execution_count": 27
  },
  {
   "metadata": {
    "ExecuteTime": {
     "end_time": "2024-11-25T08:15:21.989781Z",
     "start_time": "2024-11-25T08:11:03.681974Z"
    }
   },
   "cell_type": "code",
   "source": [
    "print(\"ELM\")\n",
    "start_time = time.time()\n",
    "elm = ELMClassifier(n_hidden=1344, activation=\"relu\")\n",
    "elm.fit(X_train, y_train)\n",
    "end_time = time.time()\n",
    "\n",
    "# Predict and evaluate\n",
    "y_pred = elm.predict(X_test)\n",
    "accuracy = accuracy_score(y_test, y_pred)\n",
    "\n",
    "# Print results\n",
    "print(classification_report(y_test, y_pred))\n",
    "print(f\"Accuracy: {accuracy:.2f}\")\n",
    "print(f\"ELM Training Time: {end_time - start_time:.2f} seconds\")"
   ],
   "id": "bbd3c53aeb1a2c49",
   "outputs": [
    {
     "name": "stdout",
     "output_type": "stream",
     "text": [
      "ELM\n",
      "              precision    recall  f1-score   support\n",
      "\n",
      "           0       0.50      0.54      0.52     28760\n",
      "           1       0.63      0.43      0.51     26060\n",
      "           2       0.64      0.69      0.66     31700\n",
      "           3       0.61      0.40      0.48     19460\n",
      "           4       0.60      0.58      0.59     15580\n",
      "           5       0.59      0.78      0.67     28980\n",
      "           6       0.55      0.29      0.38     20660\n",
      "           7       0.50      0.63      0.56     41120\n",
      "\n",
      "    accuracy                           0.56    212320\n",
      "   macro avg       0.58      0.54      0.55    212320\n",
      "weighted avg       0.57      0.56      0.56    212320\n",
      "\n",
      "Accuracy: 0.56\n",
      "ELM Training Time: 255.95 seconds\n"
     ]
    }
   ],
   "execution_count": 26
  }
 ],
 "metadata": {
  "kernelspec": {
   "display_name": "Python 3",
   "language": "python",
   "name": "python3"
  },
  "language_info": {
   "codemirror_mode": {
    "name": "ipython",
    "version": 2
   },
   "file_extension": ".py",
   "mimetype": "text/x-python",
   "name": "python",
   "nbconvert_exporter": "python",
   "pygments_lexer": "ipython2",
   "version": "2.7.6"
  }
 },
 "nbformat": 4,
 "nbformat_minor": 5
}
